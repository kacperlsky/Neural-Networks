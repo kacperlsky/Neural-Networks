{
 "cells": [
  {
   "cell_type": "markdown",
   "metadata": {},
   "source": [
    "# DCGAN"
   ]
  },
  {
   "cell_type": "code",
   "execution_count": null,
   "metadata": {},
   "outputs": [],
   "source": [
    "#Why DCGANs?\n",
    "#DCGANs use convolutional layers to attempt to build GANs better suited for image data"
   ]
  },
  {
   "cell_type": "code",
   "execution_count": 1,
   "metadata": {},
   "outputs": [],
   "source": [
    "import pandas as pd\n",
    "import numpy as np\n",
    "import matplotlib.pyplot as plt"
   ]
  },
  {
   "cell_type": "code",
   "execution_count": 2,
   "metadata": {},
   "outputs": [],
   "source": [
    "from tensorflow.keras.datasets import mnist"
   ]
  },
  {
   "cell_type": "code",
   "execution_count": 3,
   "metadata": {},
   "outputs": [],
   "source": [
    "(X_train, y_train), (X_test, y_test) = mnist.load_data()"
   ]
  },
  {
   "cell_type": "code",
   "execution_count": 4,
   "metadata": {},
   "outputs": [
    {
     "data": {
      "text/plain": [
       "<matplotlib.image.AxesImage at 0x20d1db1ccc0>"
      ]
     },
     "execution_count": 4,
     "metadata": {},
     "output_type": "execute_result"
    },
    {
     "data": {
      "image/png": "[encoded data removed]",
      "text/plain": [
       "<Figure size 432x288 with 1 Axes>"
      ]
     },
     "metadata": {
      "needs_background": "light"
     },
     "output_type": "display_data"
    }
   ],
   "source": [
    "plt.imshow(X_train[0])"
   ]
  },
  {
   "cell_type": "code",
   "execution_count": 9,
   "metadata": {},
   "outputs": [
    {
     "data": {
      "text/plain": [
       "array([5, 0, 4, ..., 5, 6, 8], dtype=uint8)"
      ]
     },
     "execution_count": 9,
     "metadata": {},
     "output_type": "execute_result"
    }
   ],
   "source": [
    "y_train"
   ]
  },
  {
   "cell_type": "markdown",
   "metadata": {},
   "source": [
    "# Reshape and rescale images for DCGAN"
   ]
  },
  {
   "cell_type": "code",
   "execution_count": 10,
   "metadata": {},
   "outputs": [],
   "source": [
    "X_train = X_train/255"
   ]
  },
  {
   "cell_type": "code",
   "execution_count": 11,
   "metadata": {},
   "outputs": [],
   "source": [
    "X_train = X_train.reshape(-1, 28, 28, 1)*2. - 1."
   ]
  },
  {
   "cell_type": "code",
   "execution_count": 12,
   "metadata": {},
   "outputs": [
    {
     "data": {
      "text/plain": [
       "-1.0"
      ]
     },
     "execution_count": 12,
     "metadata": {},
     "output_type": "execute_result"
    }
   ],
   "source": [
    "X_train.min()"
   ]
  },
  {
   "cell_type": "code",
   "execution_count": 13,
   "metadata": {},
   "outputs": [
    {
     "data": {
      "text/plain": [
       "1.0"
      ]
     },
     "execution_count": 13,
     "metadata": {},
     "output_type": "execute_result"
    }
   ],
   "source": [
    "X_train.max()"
   ]
  },
  {
   "cell_type": "markdown",
   "metadata": {},
   "source": [
    "# Filtering out the Data for Faster Training on Smaller Dataset"
   ]
  },
  {
   "cell_type": "code",
   "execution_count": 14,
   "metadata": {},
   "outputs": [],
   "source": [
    "zero_images = X_train[y_train==0]"
   ]
  },
  {
   "cell_type": "code",
   "execution_count": 15,
   "metadata": {},
   "outputs": [
    {
     "data": {
      "text/plain": [
       "(5923, 28, 28, 1)"
      ]
     },
     "execution_count": 15,
     "metadata": {},
     "output_type": "execute_result"
    }
   ],
   "source": [
    "zero_images.shape"
   ]
  },
  {
   "cell_type": "code",
   "execution_count": 16,
   "metadata": {},
   "outputs": [],
   "source": [
    "import tensorflow as tf\n",
    "from tensorflow.keras.layers import Dense, Reshape, Dropout, LeakyReLU, Flatten, BatchNormalization, Conv2D, Conv2DTranspose\n",
    "from tensorflow.keras.models import Sequential"
   ]
  },
  {
   "cell_type": "code",
   "execution_count": 17,
   "metadata": {},
   "outputs": [],
   "source": [
    "np.random.seed(42)\n",
    "tf.random.set_seed(42)\n",
    "\n",
    "codings_size = 100"
   ]
  },
  {
   "cell_type": "code",
   "execution_count": 18,
   "metadata": {},
   "outputs": [],
   "source": [
    "generator = Sequential()\n",
    "generator.add(Dense(7 * 7 * 128, input_shape=[codings_size]))\n",
    "generator.add(Reshape([7, 7, 128]))\n",
    "generator.add(BatchNormalization())\n",
    "generator.add(Conv2DTranspose(64, kernel_size=5, strides=2, padding=\"same\", activation=\"relu\"))\n",
    "generator.add(BatchNormalization())\n",
    "generator.add(Conv2DTranspose(1, kernel_size=5, strides=2, padding=\"same\", activation=\"tanh\"))"
   ]
  },
  {
   "cell_type": "code",
   "execution_count": 20,
   "metadata": {},
   "outputs": [],
   "source": [
    "discriminator = Sequential()\n",
    "discriminator.add(Conv2D(64, kernel_size=5, strides=2, padding=\"same\", activation=LeakyReLU(0.3), input_shape=[28, 28, 1]))\n",
    "discriminator.add(Dropout(0.5))\n",
    "discriminator.add(Conv2D(128, kernel_size=5, strides=2, padding=\"same\", activation=LeakyReLU(0.3)))\n",
    "discriminator.add(Dropout(0.5))\n",
    "discriminator.add(Flatten())\n",
    "discriminator.add(Dense(1, activation=\"sigmoid\"))"
   ]
  },
  {
   "cell_type": "code",
   "execution_count": 21,
   "metadata": {},
   "outputs": [],
   "source": [
    "GAN = Sequential([generator, discriminator])"
   ]
  },
  {
   "cell_type": "code",
   "execution_count": 22,
   "metadata": {},
   "outputs": [],
   "source": [
    "discriminator.compile(loss=\"binary_crossentropy\", optimizer=\"adam\")\n",
    "discriminator.trainable = False"
   ]
  },
  {
   "cell_type": "code",
   "execution_count": 23,
   "metadata": {},
   "outputs": [],
   "source": [
    "GAN.compile(loss=\"binary_crossentropy\", optimizer=\"adam\")"
   ]
  },
  {
   "cell_type": "code",
   "execution_count": 24,
   "metadata": {},
   "outputs": [
    {
     "data": {
      "text/plain": [
       "[<tensorflow.python.keras.engine.sequential.Sequential at 0x20d1db9e1d0>,\n",
       " <tensorflow.python.keras.engine.sequential.Sequential at 0x20d1c89a630>]"
      ]
     },
     "execution_count": 24,
     "metadata": {},
     "output_type": "execute_result"
    }
   ],
   "source": [
    "GAN.layers"
   ]
  },
  {
   "cell_type": "code",
   "execution_count": 25,
   "metadata": {},
   "outputs": [
    {
     "data": {
      "text/plain": [
       "[<tensorflow.python.keras.engine.sequential.Sequential at 0x20d1db9e1d0>,\n",
       " <tensorflow.python.keras.engine.sequential.Sequential at 0x20d1c89a630>]"
      ]
     },
     "execution_count": 25,
     "metadata": {},
     "output_type": "execute_result"
    }
   ],
   "source": [
    "GAN.layers"
   ]
  },
  {
   "cell_type": "code",
   "execution_count": 26,
   "metadata": {},
   "outputs": [
    {
     "name": "stdout",
     "output_type": "stream",
     "text": [
      "Model: \"sequential_3\"\n",
      "_________________________________________________________________\n",
      "Layer (type)                 Output Shape              Param #   \n",
      "=================================================================\n",
      "sequential (Sequential)      (None, 28, 28, 1)         840705    \n",
      "_________________________________________________________________\n",
      "sequential_2 (Sequential)    (None, 1)                 212865    \n",
      "=================================================================\n",
      "Total params: 1,053,570\n",
      "Trainable params: 840,321\n",
      "Non-trainable params: 213,249\n",
      "_________________________________________________________________\n"
     ]
    }
   ],
   "source": [
    "GAN.summary()"
   ]
  },
  {
   "cell_type": "code",
   "execution_count": 27,
   "metadata": {},
   "outputs": [
    {
     "name": "stdout",
     "output_type": "stream",
     "text": [
      "Model: \"sequential\"\n",
      "_________________________________________________________________\n",
      "Layer (type)                 Output Shape              Param #   \n",
      "=================================================================\n",
      "dense (Dense)                (None, 6272)              633472    \n",
      "_________________________________________________________________\n",
      "reshape (Reshape)            (None, 7, 7, 128)         0         \n",
      "_________________________________________________________________\n",
      "batch_normalization (BatchNo (None, 7, 7, 128)         512       \n",
      "_________________________________________________________________\n",
      "conv2d_transpose (Conv2DTran (None, 14, 14, 64)        204864    \n",
      "_________________________________________________________________\n",
      "batch_normalization_1 (Batch (None, 14, 14, 64)        256       \n",
      "_________________________________________________________________\n",
      "conv2d_transpose_1 (Conv2DTr (None, 28, 28, 1)         1601      \n",
      "=================================================================\n",
      "Total params: 840,705\n",
      "Trainable params: 840,321\n",
      "Non-trainable params: 384\n",
      "_________________________________________________________________\n"
     ]
    }
   ],
   "source": [
    "GAN.layers[0].summary()"
   ]
  },
  {
   "cell_type": "code",
   "execution_count": 28,
   "metadata": {},
   "outputs": [
    {
     "name": "stdout",
     "output_type": "stream",
     "text": [
      "Model: \"sequential_2\"\n",
      "_________________________________________________________________\n",
      "Layer (type)                 Output Shape              Param #   \n",
      "=================================================================\n",
      "conv2d (Conv2D)              (None, 14, 14, 64)        1664      \n",
      "_________________________________________________________________\n",
      "dropout (Dropout)            (None, 14, 14, 64)        0         \n",
      "_________________________________________________________________\n",
      "conv2d_1 (Conv2D)            (None, 7, 7, 128)         204928    \n",
      "_________________________________________________________________\n",
      "dropout_1 (Dropout)          (None, 7, 7, 128)         0         \n",
      "_________________________________________________________________\n",
      "flatten (Flatten)            (None, 6272)              0         \n",
      "_________________________________________________________________\n",
      "dense_1 (Dense)              (None, 1)                 6273      \n",
      "=================================================================\n",
      "Total params: 212,865\n",
      "Trainable params: 0\n",
      "Non-trainable params: 212,865\n",
      "_________________________________________________________________\n"
     ]
    }
   ],
   "source": [
    "GAN.layers[1].summary()"
   ]
  },
  {
   "cell_type": "markdown",
   "metadata": {},
   "source": [
    "# Setting up training batches"
   ]
  },
  {
   "cell_type": "code",
   "execution_count": 29,
   "metadata": {},
   "outputs": [],
   "source": [
    "import tensorflow as tf"
   ]
  },
  {
   "cell_type": "code",
   "execution_count": 30,
   "metadata": {},
   "outputs": [],
   "source": [
    "batch_size = 32"
   ]
  },
  {
   "cell_type": "code",
   "execution_count": 31,
   "metadata": {},
   "outputs": [],
   "source": [
    "my_data = zero_images"
   ]
  },
  {
   "cell_type": "code",
   "execution_count": 32,
   "metadata": {},
   "outputs": [],
   "source": [
    "dataset = tf.data.Dataset.from_tensor_slices(my_data).shuffle(buffer_size=1000)"
   ]
  },
  {
   "cell_type": "code",
   "execution_count": 33,
   "metadata": {},
   "outputs": [],
   "source": [
    "dataset = dataset.batch(batch_size, drop_remainder=True).prefetch(1)"
   ]
  },
  {
   "cell_type": "code",
   "execution_count": 34,
   "metadata": {},
   "outputs": [],
   "source": [
    "epochs = 20"
   ]
  },
  {
   "cell_type": "markdown",
   "metadata": {},
   "source": [
    "# Training Loop"
   ]
  },
  {
   "cell_type": "code",
   "execution_count": 35,
   "metadata": {},
   "outputs": [
    {
     "name": "stdout",
     "output_type": "stream",
     "text": [
      "Currently on Epoch 1\n",
      "\t Currently on batch number 20 of 185\n",
      "\t Currently on batch number 40 of 185\n",
      "\t Currently on batch number 60 of 185\n",
      "\t Currently on batch number 80 of 185\n",
      "\t Currently on batch number 100 of 185\n",
      "\t Currently on batch number 120 of 185\n",
      "\t Currently on batch number 140 of 185\n",
      "\t Currently on batch number 160 of 185\n",
      "\t Currently on batch number 180 of 185\n",
      "Currently on Epoch 2\n",
      "\t Currently on batch number 20 of 185\n",
      "\t Currently on batch number 40 of 185\n",
      "\t Currently on batch number 60 of 185\n",
      "\t Currently on batch number 80 of 185\n",
      "\t Currently on batch number 100 of 185\n",
      "\t Currently on batch number 120 of 185\n",
      "\t Currently on batch number 140 of 185\n",
      "\t Currently on batch number 160 of 185\n",
      "\t Currently on batch number 180 of 185\n",
      "Currently on Epoch 3\n",
      "\t Currently on batch number 20 of 185\n",
      "\t Currently on batch number 40 of 185\n",
      "\t Currently on batch number 60 of 185\n",
      "\t Currently on batch number 80 of 185\n",
      "\t Currently on batch number 100 of 185\n",
      "\t Currently on batch number 120 of 185\n",
      "\t Currently on batch number 140 of 185\n",
      "\t Currently on batch number 160 of 185\n",
      "\t Currently on batch number 180 of 185\n",
      "Currently on Epoch 4\n",
      "\t Currently on batch number 20 of 185\n",
      "\t Currently on batch number 40 of 185\n",
      "\t Currently on batch number 60 of 185\n",
      "\t Currently on batch number 80 of 185\n",
      "\t Currently on batch number 100 of 185\n",
      "\t Currently on batch number 120 of 185\n",
      "\t Currently on batch number 140 of 185\n",
      "\t Currently on batch number 160 of 185\n",
      "\t Currently on batch number 180 of 185\n",
      "Currently on Epoch 5\n",
      "\t Currently on batch number 20 of 185\n",
      "\t Currently on batch number 40 of 185\n",
      "\t Currently on batch number 60 of 185\n",
      "\t Currently on batch number 80 of 185\n",
      "\t Currently on batch number 100 of 185\n",
      "\t Currently on batch number 120 of 185\n",
      "\t Currently on batch number 140 of 185\n",
      "\t Currently on batch number 160 of 185\n",
      "\t Currently on batch number 180 of 185\n",
      "Currently on Epoch 6\n",
      "\t Currently on batch number 20 of 185\n",
      "\t Currently on batch number 40 of 185\n",
      "\t Currently on batch number 60 of 185\n",
      "\t Currently on batch number 80 of 185\n",
      "\t Currently on batch number 100 of 185\n",
      "\t Currently on batch number 120 of 185\n",
      "\t Currently on batch number 140 of 185\n",
      "\t Currently on batch number 160 of 185\n",
      "\t Currently on batch number 180 of 185\n",
      "Currently on Epoch 7\n",
      "\t Currently on batch number 20 of 185\n",
      "\t Currently on batch number 40 of 185\n",
      "\t Currently on batch number 60 of 185\n",
      "\t Currently on batch number 80 of 185\n",
      "\t Currently on batch number 100 of 185\n",
      "\t Currently on batch number 120 of 185\n",
      "\t Currently on batch number 140 of 185\n",
      "\t Currently on batch number 160 of 185\n",
      "\t Currently on batch number 180 of 185\n",
      "Currently on Epoch 8\n",
      "\t Currently on batch number 20 of 185\n",
      "\t Currently on batch number 40 of 185\n",
      "\t Currently on batch number 60 of 185\n",
      "\t Currently on batch number 80 of 185\n",
      "\t Currently on batch number 100 of 185\n",
      "\t Currently on batch number 120 of 185\n",
      "\t Currently on batch number 140 of 185\n",
      "\t Currently on batch number 160 of 185\n",
      "\t Currently on batch number 180 of 185\n",
      "Currently on Epoch 9\n",
      "\t Currently on batch number 20 of 185\n",
      "\t Currently on batch number 40 of 185\n",
      "\t Currently on batch number 60 of 185\n",
      "\t Currently on batch number 80 of 185\n",
      "\t Currently on batch number 100 of 185\n",
      "\t Currently on batch number 120 of 185\n",
      "\t Currently on batch number 140 of 185\n",
      "\t Currently on batch number 160 of 185\n",
      "\t Currently on batch number 180 of 185\n",
      "Currently on Epoch 10\n",
      "\t Currently on batch number 20 of 185\n",
      "\t Currently on batch number 40 of 185\n",
      "\t Currently on batch number 60 of 185\n",
      "\t Currently on batch number 80 of 185\n",
      "\t Currently on batch number 100 of 185\n",
      "\t Currently on batch number 120 of 185\n",
      "\t Currently on batch number 140 of 185\n",
      "\t Currently on batch number 160 of 185\n",
      "\t Currently on batch number 180 of 185\n",
      "Currently on Epoch 11\n",
      "\t Currently on batch number 20 of 185\n",
      "\t Currently on batch number 40 of 185\n",
      "\t Currently on batch number 60 of 185\n",
      "\t Currently on batch number 80 of 185\n",
      "\t Currently on batch number 100 of 185\n",
      "\t Currently on batch number 120 of 185\n",
      "\t Currently on batch number 140 of 185\n",
      "\t Currently on batch number 160 of 185\n",
      "\t Currently on batch number 180 of 185\n",
      "Currently on Epoch 12\n",
      "\t Currently on batch number 20 of 185\n",
      "\t Currently on batch number 40 of 185\n",
      "\t Currently on batch number 60 of 185\n",
      "\t Currently on batch number 80 of 185\n",
      "\t Currently on batch number 100 of 185\n",
      "\t Currently on batch number 120 of 185\n",
      "\t Currently on batch number 140 of 185\n",
      "\t Currently on batch number 160 of 185\n",
      "\t Currently on batch number 180 of 185\n",
      "Currently on Epoch 13\n",
      "\t Currently on batch number 20 of 185\n",
      "\t Currently on batch number 40 of 185\n",
      "\t Currently on batch number 60 of 185\n",
      "\t Currently on batch number 80 of 185\n",
      "\t Currently on batch number 100 of 185\n",
      "\t Currently on batch number 120 of 185\n",
      "\t Currently on batch number 140 of 185\n",
      "\t Currently on batch number 160 of 185\n",
      "\t Currently on batch number 180 of 185\n",
      "Currently on Epoch 14\n",
      "\t Currently on batch number 20 of 185\n",
      "\t Currently on batch number 40 of 185\n",
      "\t Currently on batch number 60 of 185\n",
      "\t Currently on batch number 80 of 185\n",
      "\t Currently on batch number 100 of 185\n",
      "\t Currently on batch number 120 of 185\n",
      "\t Currently on batch number 140 of 185\n",
      "\t Currently on batch number 160 of 185\n",
      "\t Currently on batch number 180 of 185\n",
      "Currently on Epoch 15\n",
      "\t Currently on batch number 20 of 185\n",
      "\t Currently on batch number 40 of 185\n",
      "\t Currently on batch number 60 of 185\n",
      "\t Currently on batch number 80 of 185\n",
      "\t Currently on batch number 100 of 185\n",
      "\t Currently on batch number 120 of 185\n",
      "\t Currently on batch number 140 of 185\n",
      "\t Currently on batch number 160 of 185\n",
      "\t Currently on batch number 180 of 185\n",
      "Currently on Epoch 16\n",
      "\t Currently on batch number 20 of 185\n",
      "\t Currently on batch number 40 of 185\n",
      "\t Currently on batch number 60 of 185\n",
      "\t Currently on batch number 80 of 185\n",
      "\t Currently on batch number 100 of 185\n",
      "\t Currently on batch number 120 of 185\n",
      "\t Currently on batch number 140 of 185\n",
      "\t Currently on batch number 160 of 185\n",
      "\t Currently on batch number 180 of 185\n",
      "Currently on Epoch 17\n",
      "\t Currently on batch number 20 of 185\n",
      "\t Currently on batch number 40 of 185\n",
      "\t Currently on batch number 60 of 185\n",
      "\t Currently on batch number 80 of 185\n",
      "\t Currently on batch number 100 of 185\n",
      "\t Currently on batch number 120 of 185\n",
      "\t Currently on batch number 140 of 185\n",
      "\t Currently on batch number 160 of 185\n",
      "\t Currently on batch number 180 of 185\n",
      "Currently on Epoch 18\n",
      "\t Currently on batch number 20 of 185\n",
      "\t Currently on batch number 40 of 185\n",
      "\t Currently on batch number 60 of 185\n",
      "\t Currently on batch number 80 of 185\n",
      "\t Currently on batch number 100 of 185\n",
      "\t Currently on batch number 120 of 185\n",
      "\t Currently on batch number 140 of 185\n",
      "\t Currently on batch number 160 of 185\n",
      "\t Currently on batch number 180 of 185\n",
      "Currently on Epoch 19\n",
      "\t Currently on batch number 20 of 185\n",
      "\t Currently on batch number 40 of 185\n",
      "\t Currently on batch number 60 of 185\n",
      "\t Currently on batch number 80 of 185\n",
      "\t Currently on batch number 100 of 185\n",
      "\t Currently on batch number 120 of 185\n",
      "\t Currently on batch number 140 of 185\n",
      "\t Currently on batch number 160 of 185\n",
      "\t Currently on batch number 180 of 185\n",
      "Currently on Epoch 20\n",
      "\t Currently on batch number 20 of 185\n",
      "\t Currently on batch number 40 of 185\n",
      "\t Currently on batch number 60 of 185\n",
      "\t Currently on batch number 80 of 185\n",
      "\t Currently on batch number 100 of 185\n",
      "\t Currently on batch number 120 of 185\n",
      "\t Currently on batch number 140 of 185\n",
      "\t Currently on batch number 160 of 185\n",
      "\t Currently on batch number 180 of 185\n"
     ]
    }
   ],
   "source": [
    "generator, discriminator = GAN.layers\n",
    "\n",
    "for epoch in range(epochs):\n",
    "    print(f\"Currently on Epoch {epoch+1}\")\n",
    "    i = 0\n",
    "    \n",
    "    for X_batch in dataset:\n",
    "        i = i+1\n",
    "        \n",
    "        if i%20 == 0:\n",
    "            print(f\"\\t Currently on batch number {i} of 185\")\n",
    "                                                         \n",
    "        #Discriminator\n",
    "        noise = tf.random.normal(shape=[batch_size,codings_size])\n",
    "        gen_images = generator(noise)\n",
    "        X_fake_vs_real = tf.concat([gen_images, tf.dtypes.cast(X_batch,tf.float32)],axis=0)\n",
    "        y1 = tf.constant([[0.]]*batch_size + [[1.]]*batch_size)\n",
    "        discriminator.trainable = True\n",
    "        discriminator.train_on_batch(X_fake_vs_real,y1)\n",
    "        \n",
    "        #Train Generator                                                 \n",
    "        noise = tf.random.normal(shape =[batch_size,codings_size])\n",
    "        y2 = tf.constant([[1.0]]*batch_size)\n",
    "        discriminator.trainable = False\n",
    "        GAN.train_on_batch(noise,y2)"
   ]
  },
  {
   "cell_type": "code",
   "execution_count": 43,
   "metadata": {},
   "outputs": [],
   "source": [
    "noise = tf.random.normal(shape=[10, codings_size])"
   ]
  },
  {
   "cell_type": "code",
   "execution_count": 44,
   "metadata": {},
   "outputs": [
    {
     "data": {
      "text/plain": [
       "TensorShape([10, 100])"
      ]
     },
     "execution_count": 44,
     "metadata": {},
     "output_type": "execute_result"
    }
   ],
   "source": [
    "noise.shape"
   ]
  },
  {
   "cell_type": "code",
   "execution_count": 51,
   "metadata": {},
   "outputs": [
    {
     "data": {
      "text/plain": [
       "<matplotlib.image.AxesImage at 0x20d27634ba8>"
      ]
     },
     "execution_count": 51,
     "metadata": {},
     "output_type": "execute_result"
    },
    {
     "data": {
      "image/png": "[encoded data removed]",
      "text/plain": [
       "<Figure size 432x288 with 1 Axes>"
      ]
     },
     "metadata": {
      "needs_background": "light"
     },
     "output_type": "display_data"
    }
   ],
   "source": [
    "plt.imshow(noise)"
   ]
  },
  {
   "cell_type": "code",
   "execution_count": 52,
   "metadata": {},
   "outputs": [],
   "source": [
    "images = generator(noise)"
   ]
  },
  {
   "cell_type": "code",
   "execution_count": 53,
   "metadata": {},
   "outputs": [],
   "source": [
    "single_image = images[0]"
   ]
  },
  {
   "cell_type": "code",
   "execution_count": 57,
   "metadata": {},
   "outputs": [
    {
     "data": {
      "image/png": "[encoded data removed]",
      "text/plain": [
       "<Figure size 432x288 with 1 Axes>"
      ]
     },
     "metadata": {
      "needs_background": "light"
     },
     "output_type": "display_data"
    },
    {
     "data": {
      "image/png": "[encoded data removed]",
      "text/plain": [
       "<Figure size 432x288 with 1 Axes>"
      ]
     },
     "metadata": {
      "needs_background": "light"
     },
     "output_type": "display_data"
    },
    {
     "data": {
      "image/png": "[encoded data removed]",
      "text/plain": [
       "<Figure size 432x288 with 1 Axes>"
      ]
     },
     "metadata": {
      "needs_background": "light"
     },
     "output_type": "display_data"
    },
    {
     "data": {
      "image/png": "[encoded data removed]",
      "text/plain": [
       "<Figure size 432x288 with 1 Axes>"
      ]
     },
     "metadata": {
      "needs_background": "light"
     },
     "output_type": "display_data"
    },
    {
     "data": {
      "image/png": "[encoded data removed]",
      "text/plain": [
       "<Figure size 432x288 with 1 Axes>"
      ]
     },
     "metadata": {
      "needs_background": "light"
     },
     "output_type": "display_data"
    },
    {
     "data": {
      "image/png": "[encoded data removed]",
      "text/plain": [
       "<Figure size 432x288 with 1 Axes>"
      ]
     },
     "metadata": {
      "needs_background": "light"
     },
     "output_type": "display_data"
    },
    {
     "data": {
      "image/png": "[encoded data removed]",
      "text/plain": [
       "<Figure size 432x288 with 1 Axes>"
      ]
     },
     "metadata": {
      "needs_background": "light"
     },
     "output_type": "display_data"
    },
    {
     "data": {
      "image/png": "[encoded data removed]",
      "text/plain": [
       "<Figure size 432x288 with 1 Axes>"
      ]
     },
     "metadata": {
      "needs_background": "light"
     },
     "output_type": "display_data"
    },
    {
     "data": {
      "image/png": "[encoded data removed]",
      "text/plain": [
       "<Figure size 432x288 with 1 Axes>"
      ]
     },
     "metadata": {
      "needs_background": "light"
     },
     "output_type": "display_data"
    },
    {
     "data": {
      "image/png": "[encoded data removed]",
      "text/plain": [
       "<Figure size 432x288 with 1 Axes>"
      ]
     },
     "metadata": {
      "needs_background": "light"
     },
     "output_type": "display_data"
    }
   ],
   "source": [
    "i = 0\n",
    "for image in images:\n",
    "    plt.imshow(image.numpy().reshape(28, 28))\n",
    "    plt.imsave(fname='images/DCGAN/DCGAN{}.png'.format(i+1),arr=image.numpy().reshape(28, 28))\n",
    "    plt.show()\n",
    "    i = i+1"
   ]
  },
  {
   "cell_type": "code",
   "execution_count": 49,
   "metadata": {},
   "outputs": [
    {
     "data": {
      "text/plain": [
       "10"
      ]
     },
     "execution_count": 49,
     "metadata": {},
     "output_type": "execute_result"
    }
   ],
   "source": [
    "len(images)"
   ]
  }
 ],
 "metadata": {
  "kernelspec": {
   "display_name": "Python 3",
   "language": "python",
   "name": "python3"
  },
  "language_info": {
   "codemirror_mode": {
    "name": "ipython",
    "version": 3
   },
   "file_extension": ".py",
   "mimetype": "text/x-python",
   "name": "python",
   "nbconvert_exporter": "python",
   "pygments_lexer": "ipython3",
   "version": "3.6.10"
  }
 },
 "nbformat": 4,
 "nbformat_minor": 4
}
