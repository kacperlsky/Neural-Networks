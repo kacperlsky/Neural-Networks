{
 "cells": [
  {
   "cell_type": "code",
   "execution_count": 115,
   "metadata": {},
   "outputs": [],
   "source": [
    "import numpy as np\n",
    "import pandas as pd\n",
    "import matplotlib.pyplot as plt"
   ]
  },
  {
   "cell_type": "code",
   "execution_count": 116,
   "metadata": {},
   "outputs": [],
   "source": [
    "from tensorflow.keras.datasets import mnist"
   ]
  },
  {
   "cell_type": "code",
   "execution_count": 117,
   "metadata": {},
   "outputs": [],
   "source": [
    "(X_train, y_train),(X_test, y_test) = mnist.load_data()"
   ]
  },
  {
   "cell_type": "code",
   "execution_count": 118,
   "metadata": {},
   "outputs": [
    {
     "data": {
      "text/plain": [
       "<matplotlib.image.AxesImage at 0x21208693f60>"
      ]
     },
     "execution_count": 118,
     "metadata": {},
     "output_type": "execute_result"
    },
    {
     "data": {
      "image/png": "[encoded data removed]",
      "text/plain": [
       "<Figure size 432x288 with 1 Axes>"
      ]
     },
     "metadata": {
      "needs_background": "light"
     },
     "output_type": "display_data"
    }
   ],
   "source": [
    "plt.imshow(X_train[0])\n",
    "#shows full array converted to image"
   ]
  },
  {
   "cell_type": "code",
   "execution_count": 119,
   "metadata": {},
   "outputs": [
    {
     "data": {
      "text/plain": [
       "<matplotlib.image.AxesImage at 0x212086ebba8>"
      ]
     },
     "execution_count": 119,
     "metadata": {},
     "output_type": "execute_result"
    },
    {
     "data": {
      "image/png": "[encoded data removed]",
      "text/plain": [
       "<Figure size 432x288 with 1 Axes>"
      ]
     },
     "metadata": {
      "needs_background": "light"
     },
     "output_type": "display_data"
    }
   ],
   "source": [
    "plt.imshow(X_train[2][6:20])\n",
    "#show only the part of image in the set rage 6 to 20"
   ]
  },
  {
   "cell_type": "code",
   "execution_count": 120,
   "metadata": {},
   "outputs": [
    {
     "name": "stdout",
     "output_type": "stream",
     "text": [
      "28\n",
      "28\n"
     ]
    }
   ],
   "source": [
    "print(len(X_train[0]))\n",
    "print(len(X_train[0][0]))\n",
    "#images are 28 x 28 pixels"
   ]
  },
  {
   "cell_type": "code",
   "execution_count": 121,
   "metadata": {},
   "outputs": [
    {
     "name": "stdout",
     "output_type": "stream",
     "text": [
      "5923\n"
     ]
    }
   ],
   "source": [
    "zero_images = X_train[y_train==0]\n",
    "#as y train and test are arrays with the correct numbers which x train and test images should graphically represent, so by y_train==0 we select only images which contain digit 0\n",
    "print(len(zero_images))"
   ]
  },
  {
   "cell_type": "markdown",
   "metadata": {},
   "source": [
    "# Discriminator and Generator code"
   ]
  },
  {
   "cell_type": "code",
   "execution_count": 122,
   "metadata": {},
   "outputs": [],
   "source": [
    "import tensorflow as tf\n",
    "from tensorflow.keras.layers import Dense, Reshape, Flatten\n",
    "from tensorflow.keras.models import Sequential"
   ]
  },
  {
   "cell_type": "code",
   "execution_count": 123,
   "metadata": {},
   "outputs": [],
   "source": [
    "discriminator = Sequential()\n",
    "discriminator.add(Flatten(input_shape=[28,28]))\n",
    "discriminator.add(Dense(150, activation='relu'))\n",
    "discriminator.add(Dense(100, activation='relu'))\n",
    "#Final Output Layer\n",
    "discriminator.add(Dense(1, activation='sigmoid'))\n",
    "\n",
    "discriminator.compile(loss='binary_crossentropy', optimizer='adam')"
   ]
  },
  {
   "cell_type": "code",
   "execution_count": 124,
   "metadata": {},
   "outputs": [],
   "source": [
    "codings_size = 100\n",
    "# 100 -> 150 -> 784(28*28=784)\n",
    "\n",
    "generator = Sequential()\n",
    "generator.add(Dense(100, activation='relu', input_shape=[codings_size]))\n",
    "generator.add(Dense(150, activation='relu'))\n",
    "generator.add(Dense(784, activation='relu'))\n",
    "generator.add(Reshape([28, 28]))"
   ]
  },
  {
   "cell_type": "code",
   "execution_count": 125,
   "metadata": {},
   "outputs": [],
   "source": [
    "GAN = Sequential([generator, discriminator])"
   ]
  },
  {
   "cell_type": "code",
   "execution_count": 126,
   "metadata": {},
   "outputs": [],
   "source": [
    "discriminator.trainable = False"
   ]
  },
  {
   "cell_type": "code",
   "execution_count": 127,
   "metadata": {},
   "outputs": [],
   "source": [
    "GAN.compile(loss='binary_crossentropy', optimizer='adam')"
   ]
  },
  {
   "cell_type": "code",
   "execution_count": 128,
   "metadata": {},
   "outputs": [],
   "source": [
    "batch_size=32"
   ]
  },
  {
   "cell_type": "code",
   "execution_count": 129,
   "metadata": {},
   "outputs": [],
   "source": [
    "my_data = zero_images"
   ]
  },
  {
   "cell_type": "code",
   "execution_count": 130,
   "metadata": {},
   "outputs": [],
   "source": [
    "dataset = tf.data.Dataset.from_tensor_slices(my_data).shuffle(buffer_size=1000)"
   ]
  },
  {
   "cell_type": "code",
   "execution_count": 131,
   "metadata": {},
   "outputs": [
    {
     "data": {
      "text/plain": [
       "tensorflow.python.data.ops.dataset_ops.ShuffleDataset"
      ]
     },
     "execution_count": 131,
     "metadata": {},
     "output_type": "execute_result"
    }
   ],
   "source": [
    "type(dataset)"
   ]
  },
  {
   "cell_type": "code",
   "execution_count": 132,
   "metadata": {},
   "outputs": [],
   "source": [
    "dataset = dataset.batch(batch_size,drop_remainder=True).prefetch(1)"
   ]
  },
  {
   "cell_type": "code",
   "execution_count": 133,
   "metadata": {},
   "outputs": [],
   "source": [
    "epochs = 200"
   ]
  },
  {
   "cell_type": "code",
   "execution_count": 134,
   "metadata": {},
   "outputs": [
    {
     "data": {
      "text/plain": [
       "[<tensorflow.python.keras.engine.sequential.Sequential at 0x21208722d68>,\n",
       " <tensorflow.python.keras.engine.sequential.Sequential at 0x21208722978>]"
      ]
     },
     "execution_count": 134,
     "metadata": {},
     "output_type": "execute_result"
    }
   ],
   "source": [
    "GAN.layers"
   ]
  },
  {
   "cell_type": "code",
   "execution_count": 135,
   "metadata": {},
   "outputs": [
    {
     "name": "stdout",
     "output_type": "stream",
     "text": [
      "Model: \"sequential_10\"\n",
      "_________________________________________________________________\n",
      "Layer (type)                 Output Shape              Param #   \n",
      "=================================================================\n",
      "dense_21 (Dense)             (None, 100)               10100     \n",
      "_________________________________________________________________\n",
      "dense_22 (Dense)             (None, 150)               15150     \n",
      "_________________________________________________________________\n",
      "dense_23 (Dense)             (None, 784)               118384    \n",
      "_________________________________________________________________\n",
      "reshape_3 (Reshape)          (None, 28, 28)            0         \n",
      "=================================================================\n",
      "Total params: 143,634\n",
      "Trainable params: 143,634\n",
      "Non-trainable params: 0\n",
      "_________________________________________________________________\n"
     ]
    }
   ],
   "source": [
    "GAN.layers[0].summary()"
   ]
  },
  {
   "cell_type": "code",
   "execution_count": 136,
   "metadata": {},
   "outputs": [
    {
     "name": "stdout",
     "output_type": "stream",
     "text": [
      "Model: \"sequential_9\"\n",
      "_________________________________________________________________\n",
      "Layer (type)                 Output Shape              Param #   \n",
      "=================================================================\n",
      "flatten_3 (Flatten)          (None, 784)               0         \n",
      "_________________________________________________________________\n",
      "dense_18 (Dense)             (None, 150)               117750    \n",
      "_________________________________________________________________\n",
      "dense_19 (Dense)             (None, 100)               15100     \n",
      "_________________________________________________________________\n",
      "dense_20 (Dense)             (None, 1)                 101       \n",
      "=================================================================\n",
      "Total params: 132,951\n",
      "Trainable params: 0\n",
      "Non-trainable params: 132,951\n",
      "_________________________________________________________________\n"
     ]
    }
   ],
   "source": [
    "GAN.layers[1].summary()"
   ]
  },
  {
   "cell_type": "code",
   "execution_count": 137,
   "metadata": {},
   "outputs": [
    {
     "name": "stdout",
     "output_type": "stream",
     "text": [
      "Currently on Epoch 1\n",
      "\t Currently on batch number 100 of 185\n",
      "Currently on Epoch 2\n",
      "\t Currently on batch number 100 of 185\n",
      "Currently on Epoch 3\n",
      "\t Currently on batch number 100 of 185\n",
      "Currently on Epoch 4\n",
      "\t Currently on batch number 100 of 185\n",
      "Currently on Epoch 5\n",
      "\t Currently on batch number 100 of 185\n",
      "Currently on Epoch 6\n",
      "\t Currently on batch number 100 of 185\n",
      "Currently on Epoch 7\n",
      "\t Currently on batch number 100 of 185\n",
      "Currently on Epoch 8\n",
      "\t Currently on batch number 100 of 185\n",
      "Currently on Epoch 9\n",
      "\t Currently on batch number 100 of 185\n",
      "Currently on Epoch 10\n",
      "\t Currently on batch number 100 of 185\n",
      "Currently on Epoch 11\n",
      "\t Currently on batch number 100 of 185\n",
      "Currently on Epoch 12\n",
      "\t Currently on batch number 100 of 185\n",
      "Currently on Epoch 13\n",
      "\t Currently on batch number 100 of 185\n",
      "Currently on Epoch 14\n",
      "\t Currently on batch number 100 of 185\n",
      "Currently on Epoch 15\n",
      "\t Currently on batch number 100 of 185\n",
      "Currently on Epoch 16\n",
      "\t Currently on batch number 100 of 185\n",
      "Currently on Epoch 17\n",
      "\t Currently on batch number 100 of 185\n",
      "Currently on Epoch 18\n",
      "\t Currently on batch number 100 of 185\n",
      "Currently on Epoch 19\n",
      "\t Currently on batch number 100 of 185\n",
      "Currently on Epoch 20\n",
      "\t Currently on batch number 100 of 185\n",
      "Currently on Epoch 21\n",
      "\t Currently on batch number 100 of 185\n",
      "Currently on Epoch 22\n",
      "\t Currently on batch number 100 of 185\n",
      "Currently on Epoch 23\n",
      "\t Currently on batch number 100 of 185\n",
      "Currently on Epoch 24\n",
      "\t Currently on batch number 100 of 185\n",
      "Currently on Epoch 25\n",
      "\t Currently on batch number 100 of 185\n",
      "Currently on Epoch 26\n",
      "\t Currently on batch number 100 of 185\n",
      "Currently on Epoch 27\n",
      "\t Currently on batch number 100 of 185\n",
      "Currently on Epoch 28\n",
      "\t Currently on batch number 100 of 185\n",
      "Currently on Epoch 29\n",
      "\t Currently on batch number 100 of 185\n",
      "Currently on Epoch 30\n",
      "\t Currently on batch number 100 of 185\n",
      "Currently on Epoch 31\n",
      "\t Currently on batch number 100 of 185\n",
      "Currently on Epoch 32\n",
      "\t Currently on batch number 100 of 185\n",
      "Currently on Epoch 33\n",
      "\t Currently on batch number 100 of 185\n",
      "Currently on Epoch 34\n",
      "\t Currently on batch number 100 of 185\n",
      "Currently on Epoch 35\n",
      "\t Currently on batch number 100 of 185\n",
      "Currently on Epoch 36\n",
      "\t Currently on batch number 100 of 185\n",
      "Currently on Epoch 37\n",
      "\t Currently on batch number 100 of 185\n",
      "Currently on Epoch 38\n",
      "\t Currently on batch number 100 of 185\n",
      "Currently on Epoch 39\n",
      "\t Currently on batch number 100 of 185\n",
      "Currently on Epoch 40\n",
      "\t Currently on batch number 100 of 185\n",
      "Currently on Epoch 41\n",
      "\t Currently on batch number 100 of 185\n",
      "Currently on Epoch 42\n",
      "\t Currently on batch number 100 of 185\n",
      "Currently on Epoch 43\n",
      "\t Currently on batch number 100 of 185\n",
      "Currently on Epoch 44\n",
      "\t Currently on batch number 100 of 185\n",
      "Currently on Epoch 45\n",
      "\t Currently on batch number 100 of 185\n",
      "Currently on Epoch 46\n",
      "\t Currently on batch number 100 of 185\n",
      "Currently on Epoch 47\n",
      "\t Currently on batch number 100 of 185\n",
      "Currently on Epoch 48\n",
      "\t Currently on batch number 100 of 185\n",
      "Currently on Epoch 49\n",
      "\t Currently on batch number 100 of 185\n",
      "Currently on Epoch 50\n",
      "\t Currently on batch number 100 of 185\n",
      "Currently on Epoch 51\n",
      "\t Currently on batch number 100 of 185\n",
      "Currently on Epoch 52\n",
      "\t Currently on batch number 100 of 185\n",
      "Currently on Epoch 53\n",
      "\t Currently on batch number 100 of 185\n",
      "Currently on Epoch 54\n",
      "\t Currently on batch number 100 of 185\n",
      "Currently on Epoch 55\n",
      "\t Currently on batch number 100 of 185\n",
      "Currently on Epoch 56\n",
      "\t Currently on batch number 100 of 185\n",
      "Currently on Epoch 57\n",
      "\t Currently on batch number 100 of 185\n",
      "Currently on Epoch 58\n",
      "\t Currently on batch number 100 of 185\n",
      "Currently on Epoch 59\n",
      "\t Currently on batch number 100 of 185\n",
      "Currently on Epoch 60\n",
      "\t Currently on batch number 100 of 185\n",
      "Currently on Epoch 61\n",
      "\t Currently on batch number 100 of 185\n",
      "Currently on Epoch 62\n",
      "\t Currently on batch number 100 of 185\n",
      "Currently on Epoch 63\n",
      "\t Currently on batch number 100 of 185\n",
      "Currently on Epoch 64\n",
      "\t Currently on batch number 100 of 185\n",
      "Currently on Epoch 65\n",
      "\t Currently on batch number 100 of 185\n",
      "Currently on Epoch 66\n",
      "\t Currently on batch number 100 of 185\n",
      "Currently on Epoch 67\n",
      "\t Currently on batch number 100 of 185\n",
      "Currently on Epoch 68\n",
      "\t Currently on batch number 100 of 185\n",
      "Currently on Epoch 69\n",
      "\t Currently on batch number 100 of 185\n",
      "Currently on Epoch 70\n",
      "\t Currently on batch number 100 of 185\n",
      "Currently on Epoch 71\n",
      "\t Currently on batch number 100 of 185\n",
      "Currently on Epoch 72\n",
      "\t Currently on batch number 100 of 185\n",
      "Currently on Epoch 73\n",
      "\t Currently on batch number 100 of 185\n",
      "Currently on Epoch 74\n",
      "\t Currently on batch number 100 of 185\n",
      "Currently on Epoch 75\n",
      "\t Currently on batch number 100 of 185\n",
      "Currently on Epoch 76\n",
      "\t Currently on batch number 100 of 185\n",
      "Currently on Epoch 77\n",
      "\t Currently on batch number 100 of 185\n",
      "Currently on Epoch 78\n",
      "\t Currently on batch number 100 of 185\n",
      "Currently on Epoch 79\n",
      "\t Currently on batch number 100 of 185\n",
      "Currently on Epoch 80\n",
      "\t Currently on batch number 100 of 185\n",
      "Currently on Epoch 81\n",
      "\t Currently on batch number 100 of 185\n",
      "Currently on Epoch 82\n",
      "\t Currently on batch number 100 of 185\n",
      "Currently on Epoch 83\n",
      "\t Currently on batch number 100 of 185\n",
      "Currently on Epoch 84\n",
      "\t Currently on batch number 100 of 185\n",
      "Currently on Epoch 85\n",
      "\t Currently on batch number 100 of 185\n",
      "Currently on Epoch 86\n",
      "\t Currently on batch number 100 of 185\n",
      "Currently on Epoch 87\n",
      "\t Currently on batch number 100 of 185\n",
      "Currently on Epoch 88\n",
      "\t Currently on batch number 100 of 185\n",
      "Currently on Epoch 89\n",
      "\t Currently on batch number 100 of 185\n",
      "Currently on Epoch 90\n",
      "\t Currently on batch number 100 of 185\n",
      "Currently on Epoch 91\n",
      "\t Currently on batch number 100 of 185\n",
      "Currently on Epoch 92\n",
      "\t Currently on batch number 100 of 185\n",
      "Currently on Epoch 93\n",
      "\t Currently on batch number 100 of 185\n",
      "Currently on Epoch 94\n",
      "\t Currently on batch number 100 of 185\n",
      "Currently on Epoch 95\n",
      "\t Currently on batch number 100 of 185\n",
      "Currently on Epoch 96\n",
      "\t Currently on batch number 100 of 185\n",
      "Currently on Epoch 97\n",
      "\t Currently on batch number 100 of 185\n",
      "Currently on Epoch 98\n",
      "\t Currently on batch number 100 of 185\n",
      "Currently on Epoch 99\n",
      "\t Currently on batch number 100 of 185\n",
      "Currently on Epoch 100\n",
      "\t Currently on batch number 100 of 185\n",
      "Currently on Epoch 101\n",
      "\t Currently on batch number 100 of 185\n",
      "Currently on Epoch 102\n",
      "\t Currently on batch number 100 of 185\n",
      "Currently on Epoch 103\n",
      "\t Currently on batch number 100 of 185\n",
      "Currently on Epoch 104\n",
      "\t Currently on batch number 100 of 185\n",
      "Currently on Epoch 105\n",
      "\t Currently on batch number 100 of 185\n",
      "Currently on Epoch 106\n",
      "\t Currently on batch number 100 of 185\n",
      "Currently on Epoch 107\n",
      "\t Currently on batch number 100 of 185\n",
      "Currently on Epoch 108\n",
      "\t Currently on batch number 100 of 185\n",
      "Currently on Epoch 109\n",
      "\t Currently on batch number 100 of 185\n",
      "Currently on Epoch 110\n",
      "\t Currently on batch number 100 of 185\n",
      "Currently on Epoch 111\n",
      "\t Currently on batch number 100 of 185\n",
      "Currently on Epoch 112\n",
      "\t Currently on batch number 100 of 185\n",
      "Currently on Epoch 113\n",
      "\t Currently on batch number 100 of 185\n",
      "Currently on Epoch 114\n",
      "\t Currently on batch number 100 of 185\n",
      "Currently on Epoch 115\n",
      "\t Currently on batch number 100 of 185\n",
      "Currently on Epoch 116\n",
      "\t Currently on batch number 100 of 185\n",
      "Currently on Epoch 117\n",
      "\t Currently on batch number 100 of 185\n",
      "Currently on Epoch 118\n",
      "\t Currently on batch number 100 of 185\n",
      "Currently on Epoch 119\n",
      "\t Currently on batch number 100 of 185\n",
      "Currently on Epoch 120\n",
      "\t Currently on batch number 100 of 185\n",
      "Currently on Epoch 121\n",
      "\t Currently on batch number 100 of 185\n",
      "Currently on Epoch 122\n",
      "\t Currently on batch number 100 of 185\n",
      "Currently on Epoch 123\n",
      "\t Currently on batch number 100 of 185\n",
      "Currently on Epoch 124\n",
      "\t Currently on batch number 100 of 185\n",
      "Currently on Epoch 125\n",
      "\t Currently on batch number 100 of 185\n",
      "Currently on Epoch 126\n",
      "\t Currently on batch number 100 of 185\n",
      "Currently on Epoch 127\n",
      "\t Currently on batch number 100 of 185\n",
      "Currently on Epoch 128\n",
      "\t Currently on batch number 100 of 185\n",
      "Currently on Epoch 129\n",
      "\t Currently on batch number 100 of 185\n",
      "Currently on Epoch 130\n",
      "\t Currently on batch number 100 of 185\n",
      "Currently on Epoch 131\n",
      "\t Currently on batch number 100 of 185\n",
      "Currently on Epoch 132\n",
      "\t Currently on batch number 100 of 185\n",
      "Currently on Epoch 133\n",
      "\t Currently on batch number 100 of 185\n",
      "Currently on Epoch 134\n",
      "\t Currently on batch number 100 of 185\n"
     ]
    },
    {
     "name": "stdout",
     "output_type": "stream",
     "text": [
      "Currently on Epoch 135\n",
      "\t Currently on batch number 100 of 185\n",
      "Currently on Epoch 136\n",
      "\t Currently on batch number 100 of 185\n",
      "Currently on Epoch 137\n",
      "\t Currently on batch number 100 of 185\n",
      "Currently on Epoch 138\n",
      "\t Currently on batch number 100 of 185\n",
      "Currently on Epoch 139\n",
      "\t Currently on batch number 100 of 185\n",
      "Currently on Epoch 140\n",
      "\t Currently on batch number 100 of 185\n",
      "Currently on Epoch 141\n",
      "\t Currently on batch number 100 of 185\n",
      "Currently on Epoch 142\n",
      "\t Currently on batch number 100 of 185\n",
      "Currently on Epoch 143\n",
      "\t Currently on batch number 100 of 185\n",
      "Currently on Epoch 144\n",
      "\t Currently on batch number 100 of 185\n",
      "Currently on Epoch 145\n",
      "\t Currently on batch number 100 of 185\n",
      "Currently on Epoch 146\n",
      "\t Currently on batch number 100 of 185\n",
      "Currently on Epoch 147\n",
      "\t Currently on batch number 100 of 185\n",
      "Currently on Epoch 148\n",
      "\t Currently on batch number 100 of 185\n",
      "Currently on Epoch 149\n",
      "\t Currently on batch number 100 of 185\n",
      "Currently on Epoch 150\n",
      "\t Currently on batch number 100 of 185\n",
      "Currently on Epoch 151\n",
      "\t Currently on batch number 100 of 185\n",
      "Currently on Epoch 152\n",
      "\t Currently on batch number 100 of 185\n",
      "Currently on Epoch 153\n",
      "\t Currently on batch number 100 of 185\n",
      "Currently on Epoch 154\n",
      "\t Currently on batch number 100 of 185\n",
      "Currently on Epoch 155\n",
      "\t Currently on batch number 100 of 185\n",
      "Currently on Epoch 156\n",
      "\t Currently on batch number 100 of 185\n",
      "Currently on Epoch 157\n",
      "\t Currently on batch number 100 of 185\n",
      "Currently on Epoch 158\n",
      "\t Currently on batch number 100 of 185\n",
      "Currently on Epoch 159\n",
      "\t Currently on batch number 100 of 185\n",
      "Currently on Epoch 160\n",
      "\t Currently on batch number 100 of 185\n",
      "Currently on Epoch 161\n",
      "\t Currently on batch number 100 of 185\n",
      "Currently on Epoch 162\n",
      "\t Currently on batch number 100 of 185\n",
      "Currently on Epoch 163\n",
      "\t Currently on batch number 100 of 185\n",
      "Currently on Epoch 164\n",
      "\t Currently on batch number 100 of 185\n",
      "Currently on Epoch 165\n",
      "\t Currently on batch number 100 of 185\n",
      "Currently on Epoch 166\n",
      "\t Currently on batch number 100 of 185\n",
      "Currently on Epoch 167\n",
      "\t Currently on batch number 100 of 185\n",
      "Currently on Epoch 168\n",
      "\t Currently on batch number 100 of 185\n",
      "Currently on Epoch 169\n",
      "\t Currently on batch number 100 of 185\n",
      "Currently on Epoch 170\n",
      "\t Currently on batch number 100 of 185\n",
      "Currently on Epoch 171\n",
      "\t Currently on batch number 100 of 185\n",
      "Currently on Epoch 172\n",
      "\t Currently on batch number 100 of 185\n",
      "Currently on Epoch 173\n",
      "\t Currently on batch number 100 of 185\n",
      "Currently on Epoch 174\n",
      "\t Currently on batch number 100 of 185\n",
      "Currently on Epoch 175\n",
      "\t Currently on batch number 100 of 185\n",
      "Currently on Epoch 176\n",
      "\t Currently on batch number 100 of 185\n",
      "Currently on Epoch 177\n",
      "\t Currently on batch number 100 of 185\n",
      "Currently on Epoch 178\n",
      "\t Currently on batch number 100 of 185\n",
      "Currently on Epoch 179\n",
      "\t Currently on batch number 100 of 185\n",
      "Currently on Epoch 180\n",
      "\t Currently on batch number 100 of 185\n",
      "Currently on Epoch 181\n",
      "\t Currently on batch number 100 of 185\n",
      "Currently on Epoch 182\n",
      "\t Currently on batch number 100 of 185\n",
      "Currently on Epoch 183\n",
      "\t Currently on batch number 100 of 185\n",
      "Currently on Epoch 184\n",
      "\t Currently on batch number 100 of 185\n",
      "Currently on Epoch 185\n",
      "\t Currently on batch number 100 of 185\n",
      "Currently on Epoch 186\n",
      "\t Currently on batch number 100 of 185\n",
      "Currently on Epoch 187\n",
      "\t Currently on batch number 100 of 185\n",
      "Currently on Epoch 188\n",
      "\t Currently on batch number 100 of 185\n",
      "Currently on Epoch 189\n",
      "\t Currently on batch number 100 of 185\n",
      "Currently on Epoch 190\n",
      "\t Currently on batch number 100 of 185\n",
      "Currently on Epoch 191\n",
      "\t Currently on batch number 100 of 185\n",
      "Currently on Epoch 192\n",
      "\t Currently on batch number 100 of 185\n",
      "Currently on Epoch 193\n",
      "\t Currently on batch number 100 of 185\n",
      "Currently on Epoch 194\n",
      "\t Currently on batch number 100 of 185\n",
      "Currently on Epoch 195\n",
      "\t Currently on batch number 100 of 185\n",
      "Currently on Epoch 196\n",
      "\t Currently on batch number 100 of 185\n",
      "Currently on Epoch 197\n",
      "\t Currently on batch number 100 of 185\n",
      "Currently on Epoch 198\n",
      "\t Currently on batch number 100 of 185\n",
      "Currently on Epoch 199\n",
      "\t Currently on batch number 100 of 185\n",
      "Currently on Epoch 200\n",
      "\t Currently on batch number 100 of 185\n"
     ]
    }
   ],
   "source": [
    "generator, discriminator = GAN.layers\n",
    "\n",
    "for epoch in range(epochs):\n",
    "    print(f\"Currently on Epoch {epoch+1}\")\n",
    "    i = 0\n",
    "    \n",
    "    for X_batch in dataset:\n",
    "        i = i+1\n",
    "        \n",
    "        if i%100 == 0:\n",
    "            print(f\"\\t Currently on batch number {i} of 185\")\n",
    "                                                         \n",
    "        #Discriminator\n",
    "        noise = tf.random.normal(shape=[batch_size,codings_size])\n",
    "        gen_images = generator(noise)\n",
    "        X_fake_vs_real = tf.concat([gen_images, tf.dtypes.cast(X_batch,tf.float32)],axis=0)\n",
    "        y1 = tf.constant([[0.0]]*batch_size + [[1.0]]*batch_size)\n",
    "        discriminator.trainable = True\n",
    "        discriminator.train_on_batch(X_fake_vs_real,y1)\n",
    "        \n",
    "        #Train Generator                                                 \n",
    "        noise = tf.random.normal(shape =[batch_size,codings_size])\n",
    "        y2 = tf.constant([[1.0]]*batch_size)\n",
    "        discriminator.trainable = False\n",
    "        GAN.train_on_batch(noise,y2)"
   ]
  },
  {
   "cell_type": "code",
   "execution_count": 138,
   "metadata": {},
   "outputs": [],
   "source": [
    "noise = tf.random.normal(shape=[10,codings_size])"
   ]
  },
  {
   "cell_type": "code",
   "execution_count": 139,
   "metadata": {},
   "outputs": [
    {
     "data": {
      "text/plain": [
       "TensorShape([10, 100])"
      ]
     },
     "execution_count": 139,
     "metadata": {},
     "output_type": "execute_result"
    }
   ],
   "source": [
    "noise.shape"
   ]
  },
  {
   "cell_type": "code",
   "execution_count": 140,
   "metadata": {},
   "outputs": [
    {
     "data": {
      "text/plain": [
       "<matplotlib.image.AxesImage at 0x212082e6160>"
      ]
     },
     "execution_count": 140,
     "metadata": {},
     "output_type": "execute_result"
    },
    {
     "data": {
      "image/png": "[encoded data removed]",
      "text/plain": [
       "<Figure size 432x288 with 1 Axes>"
      ]
     },
     "metadata": {
      "needs_background": "light"
     },
     "output_type": "display_data"
    }
   ],
   "source": [
    "plt.imshow(noise)"
   ]
  },
  {
   "cell_type": "code",
   "execution_count": 141,
   "metadata": {},
   "outputs": [],
   "source": [
    "images = generator(noise)"
   ]
  },
  {
   "cell_type": "code",
   "execution_count": 142,
   "metadata": {},
   "outputs": [
    {
     "data": {
      "text/plain": [
       "TensorShape([10, 28, 28])"
      ]
     },
     "execution_count": 142,
     "metadata": {},
     "output_type": "execute_result"
    }
   ],
   "source": [
    "images.shape"
   ]
  },
  {
   "cell_type": "code",
   "execution_count": 143,
   "metadata": {},
   "outputs": [
    {
     "data": {
      "image/png": "[encoded data removed]",
      "text/plain": [
       "<Figure size 432x288 with 1 Axes>"
      ]
     },
     "metadata": {
      "needs_background": "light"
     },
     "output_type": "display_data"
    }
   ],
   "source": [
    "plt.imshow(images[6])\n",
    "#WARNING the name should be always upda\n",
    "plt.imsave(fname='images/GAN/zero{}.png'.format(epochs),arr=images[6])"
   ]
  },
  {
   "cell_type": "code",
   "execution_count": 76,
   "metadata": {
    "scrolled": true
   },
   "outputs": [
    {
     "data": {
      "image/png": "[encoded data removed]",
      "text/plain": [
       "<Figure size 432x288 with 1 Axes>"
      ]
     },
     "metadata": {
      "needs_background": "light"
     },
     "output_type": "display_data"
    }
   ],
   "source": [
    "for i in range(len(images)):\n",
    "    plt.imshow(images[i])\n",
    "#plt.imsave(fname='images/image2.png',arr=images[1])"
   ]
  },
  {
   "cell_type": "code",
   "execution_count": 144,
   "metadata": {},
   "outputs": [
    {
     "data": {
      "text/plain": [
       "10"
      ]
     },
     "execution_count": 144,
     "metadata": {},
     "output_type": "execute_result"
    }
   ],
   "source": [
    "len(images)"
   ]
  },
  {
   "cell_type": "code",
   "execution_count": 151,
   "metadata": {},
   "outputs": [
    {
     "data": {
      "text/plain": [
       "<matplotlib.image.AxesImage at 0x212087ac2b0>"
      ]
     },
     "execution_count": 151,
     "metadata": {},
     "output_type": "execute_result"
    },
    {
     "data": {
      "image/png": "[encoded data removed]",
      "text/plain": [
       "<Figure size 432x288 with 1 Axes>"
      ]
     },
     "metadata": {
      "needs_background": "light"
     },
     "output_type": "display_data"
    }
   ],
   "source": [
    "plt.imshow(images[4])"
   ]
  }
 ],
 "metadata": {
  "kernelspec": {
   "display_name": "Python 3",
   "language": "python",
   "name": "python3"
  },
  "language_info": {
   "codemirror_mode": {
    "name": "ipython",
    "version": 3
   },
   "file_extension": ".py",
   "mimetype": "text/x-python",
   "name": "python",
   "nbconvert_exporter": "python",
   "pygments_lexer": "ipython3",
   "version": "3.6.10"
  }
 },
 "nbformat": 4,
 "nbformat_minor": 4
}
